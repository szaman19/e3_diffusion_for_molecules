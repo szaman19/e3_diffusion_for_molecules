{
 "cells": [
  {
   "cell_type": "code",
   "execution_count": 1,
   "id": "f1d86586-536f-4d77-99dc-7f6efb865c43",
   "metadata": {},
   "outputs": [],
   "source": [
    "from qm9 import dataset\n",
    "from dataclasses import dataclass, field"
   ]
  },
  {
   "cell_type": "code",
   "execution_count": 2,
   "id": "e08f68d4-8bd1-45f4-961a-5ea9a09b76fd",
   "metadata": {},
   "outputs": [],
   "source": [
    "from qm9.models import get_model"
   ]
  },
  {
   "cell_type": "code",
   "execution_count": 3,
   "id": "1febfd27-474f-456d-b0a6-6a36779e316b",
   "metadata": {},
   "outputs": [],
   "source": [
    "from configs.datasets_config import get_dataset_info"
   ]
  },
  {
   "cell_type": "code",
   "execution_count": 31,
   "id": "d0ade1d4-8c62-4207-9244-08610322ad2a",
   "metadata": {},
   "outputs": [],
   "source": [
    "import torch"
   ]
  },
  {
   "cell_type": "code",
   "execution_count": 33,
   "id": "e733da09-a9e3-4618-8f17-dbd1e5edfdd7",
   "metadata": {},
   "outputs": [],
   "source": [
    "from os.path import join"
   ]
  },
  {
   "cell_type": "code",
   "execution_count": 49,
   "id": "33d40c99-ed42-43f5-8af1-e83a94ebf022",
   "metadata": {},
   "outputs": [],
   "source": [
    "from equivariant_diffusion import utils as diffusion_utils"
   ]
  },
  {
   "cell_type": "code",
   "execution_count": 50,
   "id": "5d69192c-0653-4792-afa2-c883a31dc38f",
   "metadata": {},
   "outputs": [],
   "source": [
    "from qm9.analyze import check_stability"
   ]
  },
  {
   "cell_type": "code",
   "execution_count": 62,
   "id": "b0357c56-65e5-4409-a795-bae6fbd246eb",
   "metadata": {},
   "outputs": [],
   "source": [
    "import qm9.visualizer as vis"
   ]
  },
  {
   "cell_type": "markdown",
   "id": "4ebdfcd3-7e24-4055-ac9d-a528bf0bbb0c",
   "metadata": {},
   "source": [
    "## Load dataset and dataloader\n",
    "\n",
    "---\n",
    "\n",
    "Load the dataset and the dataloader for the QM9 dataset. We can look at the input representation of the model and how a batch of data is represented. "
   ]
  },
  {
   "cell_type": "code",
   "execution_count": 34,
   "id": "b2cc4e15-4674-47dc-93a5-d1e4f67e7640",
   "metadata": {},
   "outputs": [],
   "source": [
    "@dataclass\n",
    "class DatasetConfigs:\n",
    "    datadir: str = \"qm9/temp\"\n",
    "    dataset: str = \"qm9\"\n",
    "    num_workers: int = 1\n",
    "    remove_h: bool = False\n",
    "    force_download: bool = False\n",
    "    subtract_thermo: bool = True\n",
    "    batch_size: int = 16\n",
    "    filter_n_atoms: int = None\n",
    "    include_charges: bool = True\n",
    "    shuffle: bool = True"
   ]
  },
  {
   "cell_type": "code",
   "execution_count": 5,
   "id": "7cab8779-3f40-4e45-8fdd-310fd4d795db",
   "metadata": {},
   "outputs": [],
   "source": [
    "cfg = DatasetConfigs()"
   ]
  },
  {
   "cell_type": "code",
   "execution_count": 7,
   "id": "17739ff6-7c47-4013-abc9-01cff13e6df1",
   "metadata": {},
   "outputs": [],
   "source": [
    "dataloaders, charge_scale = dataset.retrieve_dataloaders(cfg)"
   ]
  },
  {
   "cell_type": "code",
   "execution_count": 8,
   "id": "036a02ae-18b0-441d-8645-a9b9bf21afd2",
   "metadata": {},
   "outputs": [],
   "source": [
    "loader = dataloaders['train']"
   ]
  },
  {
   "cell_type": "code",
   "execution_count": 9,
   "id": "68e48614-f690-455d-810e-16a154248c03",
   "metadata": {
    "tags": []
   },
   "outputs": [],
   "source": [
    "data = next(iter(dataloaders['train']))"
   ]
  },
  {
   "cell_type": "code",
   "execution_count": 10,
   "id": "3b26eccc-5828-43de-a76a-a695d59e18f2",
   "metadata": {},
   "outputs": [
    {
     "name": "stdout",
     "output_type": "stream",
     "text": [
      "torch.Size([16, 25])\n",
      "torch.Size([10000, 1])\n",
      "torch.Size([16, 25, 1])\n"
     ]
    }
   ],
   "source": [
    "print(data['atom_mask'].shape)\n",
    "print(data['edge_mask'].shape)\n",
    "print(data['charges'].shape)"
   ]
  },
  {
   "cell_type": "code",
   "execution_count": 11,
   "id": "e01a82f6-a822-46a3-b27d-7e0944535a53",
   "metadata": {},
   "outputs": [
    {
     "data": {
      "text/plain": [
       "torch.Size([16, 1, 25])"
      ]
     },
     "execution_count": 11,
     "metadata": {},
     "output_type": "execute_result"
    }
   ],
   "source": [
    "data['atom_mask'].unsqueeze(1).shape"
   ]
  },
  {
   "cell_type": "code",
   "execution_count": 12,
   "id": "b92e4a19-6fd9-466c-87c9-5ee228f89091",
   "metadata": {},
   "outputs": [
    {
     "data": {
      "text/plain": [
       "torch.Size([16, 25, 1])"
      ]
     },
     "execution_count": 12,
     "metadata": {},
     "output_type": "execute_result"
    }
   ],
   "source": [
    "data['atom_mask'].unsqueeze(2).shape"
   ]
  },
  {
   "cell_type": "code",
   "execution_count": 13,
   "id": "5bb8418c-ec14-45f5-ade7-dca6b95ff4a3",
   "metadata": {},
   "outputs": [
    {
     "data": {
      "text/plain": [
       "dict_keys(['num_atoms', 'charges', 'positions', 'index', 'A', 'B', 'C', 'mu', 'alpha', 'homo', 'lumo', 'gap', 'r2', 'zpve', 'U0', 'U', 'H', 'G', 'Cv', 'omega1', 'zpve_thermo', 'U0_thermo', 'U_thermo', 'H_thermo', 'G_thermo', 'Cv_thermo', 'one_hot', 'atom_mask', 'edge_mask'])"
      ]
     },
     "execution_count": 13,
     "metadata": {},
     "output_type": "execute_result"
    }
   ],
   "source": [
    "data.keys()"
   ]
  },
  {
   "cell_type": "code",
   "execution_count": 14,
   "id": "b2fde862-9840-4d91-ad58-1b84341f1b63",
   "metadata": {},
   "outputs": [
    {
     "data": {
      "text/plain": [
       "torch.Size([16, 25, 3])"
      ]
     },
     "execution_count": 14,
     "metadata": {},
     "output_type": "execute_result"
    }
   ],
   "source": [
    "data['positions'].shape"
   ]
  },
  {
   "cell_type": "markdown",
   "id": "d801981a-13d7-44b3-ab45-a01152dbf028",
   "metadata": {},
   "source": [
    "## Decompose sample workflow\n",
    "---\n",
    "\n",
    "Decompose the original sample workflow. We update the sampling workflow to do interpolation rather than entirely unconditional. "
   ]
  },
  {
   "cell_type": "code",
   "execution_count": null,
   "id": "26d78ee6-cc4e-4bb5-94b7-f55a7897cb5c",
   "metadata": {},
   "outputs": [],
   "source": [
    "dataset_info = get_dataset_info(\"qm9\", False)"
   ]
  },
  {
   "cell_type": "code",
   "execution_count": null,
   "id": "840f77a8-1062-41c0-86ec-2c23d8c1a1a8",
   "metadata": {},
   "outputs": [],
   "source": [
    "device='cuda'"
   ]
  },
  {
   "cell_type": "code",
   "execution_count": 25,
   "id": "61dc2551-755e-4ab4-93d0-e05bfc510031",
   "metadata": {},
   "outputs": [],
   "source": [
    "@dataclass\n",
    "class ModelConfigs:\n",
    "    model: str = \"egnn_dynamics\"\n",
    "    probabilistic_model: str = \"diffusion\"\n",
    "    diffusion_steps: int = 1000\n",
    "    diffusion_noise_schedule: str = \"polynomial_2\"\n",
    "    diffusion_noise_precision: float =1e-5\n",
    "    include_charges: bool = True\n",
    "    conditioning: tuple = ()\n",
    "    n_layers: int = 9\n",
    "    ema_decay: float = 0.9999\n",
    "    normalize_factors: tuple = (1,4,10)\n",
    "    attention: bool = True\n",
    "    inv_sublayers: int = 1\n",
    "    tanh: bool = True\n",
    "    condition_time: bool = True\n",
    "    aggregation_method: str = 'sum'\n",
    "    sin_embedding: bool = False\n",
    "    norm_constant: float = 1\n",
    "    normalization_factor: float = 1\n",
    "    context_node_nf: int = 0\n",
    "    nf: int = 256\n",
    "    diffusion_loss_type: str = 'l2' \n",
    "    actnorm: bool = True"
   ]
  },
  {
   "cell_type": "code",
   "execution_count": 26,
   "id": "d0803a4a-4b34-4cfb-acc3-84617412a06d",
   "metadata": {},
   "outputs": [],
   "source": [
    "args = ModelConfigs()"
   ]
  },
  {
   "cell_type": "code",
   "execution_count": 27,
   "id": "65b11d59-31a5-4547-bd87-3961aba99ae9",
   "metadata": {},
   "outputs": [
    {
     "name": "stdout",
     "output_type": "stream",
     "text": [
      "Entropy of n_nodes: H[N] -2.475700616836548\n",
      "alphas2 [9.99990000e-01 9.99988000e-01 9.99982000e-01 ... 2.59676966e-05\n",
      " 1.39959211e-05 1.00039959e-05]\n",
      "gamma [-11.51291546 -11.33059532 -10.92513058 ...  10.55863126  11.17673063\n",
      "  11.51251595]\n"
     ]
    }
   ],
   "source": [
    "flow, nodes_dist, prop_dist = get_model(\n",
    "        args, device, dataset_info, dataloaders['train'])"
   ]
  },
  {
   "cell_type": "code",
   "execution_count": 28,
   "id": "a5f8e665-857c-49b3-b3bb-04419c4533f0",
   "metadata": {
    "collapsed": true,
    "jupyter": {
     "outputs_hidden": true
    },
    "tags": []
   },
   "outputs": [
    {
     "data": {
      "text/plain": [
       "EnVariationalDiffusion(\n",
       "  (gamma): PredefinedNoiseSchedule()\n",
       "  (dynamics): EGNN_dynamics_QM9(\n",
       "    (egnn): EGNN(\n",
       "      (embedding): Linear(in_features=7, out_features=256, bias=True)\n",
       "      (embedding_out): Linear(in_features=256, out_features=7, bias=True)\n",
       "      (e_block_0): EquivariantBlock(\n",
       "        (gcl_0): GCL(\n",
       "          (edge_mlp): Sequential(\n",
       "            (0): Linear(in_features=514, out_features=256, bias=True)\n",
       "            (1): SiLU()\n",
       "            (2): Linear(in_features=256, out_features=256, bias=True)\n",
       "            (3): SiLU()\n",
       "          )\n",
       "          (node_mlp): Sequential(\n",
       "            (0): Linear(in_features=512, out_features=256, bias=True)\n",
       "            (1): SiLU()\n",
       "            (2): Linear(in_features=256, out_features=256, bias=True)\n",
       "          )\n",
       "          (att_mlp): Sequential(\n",
       "            (0): Linear(in_features=256, out_features=1, bias=True)\n",
       "            (1): Sigmoid()\n",
       "          )\n",
       "        )\n",
       "        (gcl_equiv): EquivariantUpdate(\n",
       "          (coord_mlp): Sequential(\n",
       "            (0): Linear(in_features=514, out_features=256, bias=True)\n",
       "            (1): SiLU()\n",
       "            (2): Linear(in_features=256, out_features=256, bias=True)\n",
       "            (3): SiLU()\n",
       "            (4): Linear(in_features=256, out_features=1, bias=False)\n",
       "          )\n",
       "        )\n",
       "      )\n",
       "      (e_block_1): EquivariantBlock(\n",
       "        (gcl_0): GCL(\n",
       "          (edge_mlp): Sequential(\n",
       "            (0): Linear(in_features=514, out_features=256, bias=True)\n",
       "            (1): SiLU()\n",
       "            (2): Linear(in_features=256, out_features=256, bias=True)\n",
       "            (3): SiLU()\n",
       "          )\n",
       "          (node_mlp): Sequential(\n",
       "            (0): Linear(in_features=512, out_features=256, bias=True)\n",
       "            (1): SiLU()\n",
       "            (2): Linear(in_features=256, out_features=256, bias=True)\n",
       "          )\n",
       "          (att_mlp): Sequential(\n",
       "            (0): Linear(in_features=256, out_features=1, bias=True)\n",
       "            (1): Sigmoid()\n",
       "          )\n",
       "        )\n",
       "        (gcl_equiv): EquivariantUpdate(\n",
       "          (coord_mlp): Sequential(\n",
       "            (0): Linear(in_features=514, out_features=256, bias=True)\n",
       "            (1): SiLU()\n",
       "            (2): Linear(in_features=256, out_features=256, bias=True)\n",
       "            (3): SiLU()\n",
       "            (4): Linear(in_features=256, out_features=1, bias=False)\n",
       "          )\n",
       "        )\n",
       "      )\n",
       "      (e_block_2): EquivariantBlock(\n",
       "        (gcl_0): GCL(\n",
       "          (edge_mlp): Sequential(\n",
       "            (0): Linear(in_features=514, out_features=256, bias=True)\n",
       "            (1): SiLU()\n",
       "            (2): Linear(in_features=256, out_features=256, bias=True)\n",
       "            (3): SiLU()\n",
       "          )\n",
       "          (node_mlp): Sequential(\n",
       "            (0): Linear(in_features=512, out_features=256, bias=True)\n",
       "            (1): SiLU()\n",
       "            (2): Linear(in_features=256, out_features=256, bias=True)\n",
       "          )\n",
       "          (att_mlp): Sequential(\n",
       "            (0): Linear(in_features=256, out_features=1, bias=True)\n",
       "            (1): Sigmoid()\n",
       "          )\n",
       "        )\n",
       "        (gcl_equiv): EquivariantUpdate(\n",
       "          (coord_mlp): Sequential(\n",
       "            (0): Linear(in_features=514, out_features=256, bias=True)\n",
       "            (1): SiLU()\n",
       "            (2): Linear(in_features=256, out_features=256, bias=True)\n",
       "            (3): SiLU()\n",
       "            (4): Linear(in_features=256, out_features=1, bias=False)\n",
       "          )\n",
       "        )\n",
       "      )\n",
       "      (e_block_3): EquivariantBlock(\n",
       "        (gcl_0): GCL(\n",
       "          (edge_mlp): Sequential(\n",
       "            (0): Linear(in_features=514, out_features=256, bias=True)\n",
       "            (1): SiLU()\n",
       "            (2): Linear(in_features=256, out_features=256, bias=True)\n",
       "            (3): SiLU()\n",
       "          )\n",
       "          (node_mlp): Sequential(\n",
       "            (0): Linear(in_features=512, out_features=256, bias=True)\n",
       "            (1): SiLU()\n",
       "            (2): Linear(in_features=256, out_features=256, bias=True)\n",
       "          )\n",
       "          (att_mlp): Sequential(\n",
       "            (0): Linear(in_features=256, out_features=1, bias=True)\n",
       "            (1): Sigmoid()\n",
       "          )\n",
       "        )\n",
       "        (gcl_equiv): EquivariantUpdate(\n",
       "          (coord_mlp): Sequential(\n",
       "            (0): Linear(in_features=514, out_features=256, bias=True)\n",
       "            (1): SiLU()\n",
       "            (2): Linear(in_features=256, out_features=256, bias=True)\n",
       "            (3): SiLU()\n",
       "            (4): Linear(in_features=256, out_features=1, bias=False)\n",
       "          )\n",
       "        )\n",
       "      )\n",
       "      (e_block_4): EquivariantBlock(\n",
       "        (gcl_0): GCL(\n",
       "          (edge_mlp): Sequential(\n",
       "            (0): Linear(in_features=514, out_features=256, bias=True)\n",
       "            (1): SiLU()\n",
       "            (2): Linear(in_features=256, out_features=256, bias=True)\n",
       "            (3): SiLU()\n",
       "          )\n",
       "          (node_mlp): Sequential(\n",
       "            (0): Linear(in_features=512, out_features=256, bias=True)\n",
       "            (1): SiLU()\n",
       "            (2): Linear(in_features=256, out_features=256, bias=True)\n",
       "          )\n",
       "          (att_mlp): Sequential(\n",
       "            (0): Linear(in_features=256, out_features=1, bias=True)\n",
       "            (1): Sigmoid()\n",
       "          )\n",
       "        )\n",
       "        (gcl_equiv): EquivariantUpdate(\n",
       "          (coord_mlp): Sequential(\n",
       "            (0): Linear(in_features=514, out_features=256, bias=True)\n",
       "            (1): SiLU()\n",
       "            (2): Linear(in_features=256, out_features=256, bias=True)\n",
       "            (3): SiLU()\n",
       "            (4): Linear(in_features=256, out_features=1, bias=False)\n",
       "          )\n",
       "        )\n",
       "      )\n",
       "      (e_block_5): EquivariantBlock(\n",
       "        (gcl_0): GCL(\n",
       "          (edge_mlp): Sequential(\n",
       "            (0): Linear(in_features=514, out_features=256, bias=True)\n",
       "            (1): SiLU()\n",
       "            (2): Linear(in_features=256, out_features=256, bias=True)\n",
       "            (3): SiLU()\n",
       "          )\n",
       "          (node_mlp): Sequential(\n",
       "            (0): Linear(in_features=512, out_features=256, bias=True)\n",
       "            (1): SiLU()\n",
       "            (2): Linear(in_features=256, out_features=256, bias=True)\n",
       "          )\n",
       "          (att_mlp): Sequential(\n",
       "            (0): Linear(in_features=256, out_features=1, bias=True)\n",
       "            (1): Sigmoid()\n",
       "          )\n",
       "        )\n",
       "        (gcl_equiv): EquivariantUpdate(\n",
       "          (coord_mlp): Sequential(\n",
       "            (0): Linear(in_features=514, out_features=256, bias=True)\n",
       "            (1): SiLU()\n",
       "            (2): Linear(in_features=256, out_features=256, bias=True)\n",
       "            (3): SiLU()\n",
       "            (4): Linear(in_features=256, out_features=1, bias=False)\n",
       "          )\n",
       "        )\n",
       "      )\n",
       "      (e_block_6): EquivariantBlock(\n",
       "        (gcl_0): GCL(\n",
       "          (edge_mlp): Sequential(\n",
       "            (0): Linear(in_features=514, out_features=256, bias=True)\n",
       "            (1): SiLU()\n",
       "            (2): Linear(in_features=256, out_features=256, bias=True)\n",
       "            (3): SiLU()\n",
       "          )\n",
       "          (node_mlp): Sequential(\n",
       "            (0): Linear(in_features=512, out_features=256, bias=True)\n",
       "            (1): SiLU()\n",
       "            (2): Linear(in_features=256, out_features=256, bias=True)\n",
       "          )\n",
       "          (att_mlp): Sequential(\n",
       "            (0): Linear(in_features=256, out_features=1, bias=True)\n",
       "            (1): Sigmoid()\n",
       "          )\n",
       "        )\n",
       "        (gcl_equiv): EquivariantUpdate(\n",
       "          (coord_mlp): Sequential(\n",
       "            (0): Linear(in_features=514, out_features=256, bias=True)\n",
       "            (1): SiLU()\n",
       "            (2): Linear(in_features=256, out_features=256, bias=True)\n",
       "            (3): SiLU()\n",
       "            (4): Linear(in_features=256, out_features=1, bias=False)\n",
       "          )\n",
       "        )\n",
       "      )\n",
       "      (e_block_7): EquivariantBlock(\n",
       "        (gcl_0): GCL(\n",
       "          (edge_mlp): Sequential(\n",
       "            (0): Linear(in_features=514, out_features=256, bias=True)\n",
       "            (1): SiLU()\n",
       "            (2): Linear(in_features=256, out_features=256, bias=True)\n",
       "            (3): SiLU()\n",
       "          )\n",
       "          (node_mlp): Sequential(\n",
       "            (0): Linear(in_features=512, out_features=256, bias=True)\n",
       "            (1): SiLU()\n",
       "            (2): Linear(in_features=256, out_features=256, bias=True)\n",
       "          )\n",
       "          (att_mlp): Sequential(\n",
       "            (0): Linear(in_features=256, out_features=1, bias=True)\n",
       "            (1): Sigmoid()\n",
       "          )\n",
       "        )\n",
       "        (gcl_equiv): EquivariantUpdate(\n",
       "          (coord_mlp): Sequential(\n",
       "            (0): Linear(in_features=514, out_features=256, bias=True)\n",
       "            (1): SiLU()\n",
       "            (2): Linear(in_features=256, out_features=256, bias=True)\n",
       "            (3): SiLU()\n",
       "            (4): Linear(in_features=256, out_features=1, bias=False)\n",
       "          )\n",
       "        )\n",
       "      )\n",
       "      (e_block_8): EquivariantBlock(\n",
       "        (gcl_0): GCL(\n",
       "          (edge_mlp): Sequential(\n",
       "            (0): Linear(in_features=514, out_features=256, bias=True)\n",
       "            (1): SiLU()\n",
       "            (2): Linear(in_features=256, out_features=256, bias=True)\n",
       "            (3): SiLU()\n",
       "          )\n",
       "          (node_mlp): Sequential(\n",
       "            (0): Linear(in_features=512, out_features=256, bias=True)\n",
       "            (1): SiLU()\n",
       "            (2): Linear(in_features=256, out_features=256, bias=True)\n",
       "          )\n",
       "          (att_mlp): Sequential(\n",
       "            (0): Linear(in_features=256, out_features=1, bias=True)\n",
       "            (1): Sigmoid()\n",
       "          )\n",
       "        )\n",
       "        (gcl_equiv): EquivariantUpdate(\n",
       "          (coord_mlp): Sequential(\n",
       "            (0): Linear(in_features=514, out_features=256, bias=True)\n",
       "            (1): SiLU()\n",
       "            (2): Linear(in_features=256, out_features=256, bias=True)\n",
       "            (3): SiLU()\n",
       "            (4): Linear(in_features=256, out_features=1, bias=False)\n",
       "          )\n",
       "        )\n",
       "      )\n",
       "    )\n",
       "  )\n",
       ")"
      ]
     },
     "execution_count": 28,
     "metadata": {},
     "output_type": "execute_result"
    }
   ],
   "source": [
    "flow"
   ]
  },
  {
   "cell_type": "code",
   "execution_count": null,
   "id": "296d13ce-aa64-4dbd-8e09-9f85a8c1a26a",
   "metadata": {},
   "outputs": [],
   "source": [
    "# Get the saved args of a model from the args.pickle file\n",
    "#with open(join(eval_args.model_path, 'args.pickle'), 'rb') as f:\n",
    "#        args = pickle.load(f)"
   ]
  },
  {
   "cell_type": "markdown",
   "id": "6e1c0692-00b3-4682-9554-e9f7acfd2fb3",
   "metadata": {},
   "source": [
    "### Categorical \n",
    "\n",
    "`nodes_dist` is a categorical distribution that can be sampled to determine the molecule size. This refers to `P(M)` on the paper.  "
   ]
  },
  {
   "cell_type": "code",
   "execution_count": 29,
   "id": "1d452a7f-ade1-443f-94a4-6b759ed54a04",
   "metadata": {},
   "outputs": [
    {
     "data": {
      "text/plain": [
       "<qm9.models.DistributionNodes at 0x7f3416c083a0>"
      ]
     },
     "execution_count": 29,
     "metadata": {},
     "output_type": "execute_result"
    }
   ],
   "source": [
    "nodes_dist"
   ]
  },
  {
   "cell_type": "code",
   "execution_count": 36,
   "id": "75524bd3-e5aa-4a46-ae38-089b49bf94f3",
   "metadata": {},
   "outputs": [],
   "source": [
    "flow.to(device)\n",
    "model_path = 'outputs/edm_qm9'\n",
    "fn = 'generative_model_ema.npy'\n",
    "flow_state_dict = torch.load(join(model_path, fn),\n",
    "                             map_location=device)"
   ]
  },
  {
   "cell_type": "code",
   "execution_count": 39,
   "id": "bf382c2b-5e49-4a82-9936-af3a30f0f5e0",
   "metadata": {},
   "outputs": [
    {
     "data": {
      "text/plain": [
       "tensor([19, 23, 10, 16, 18, 17, 20, 21, 21, 20, 19, 19, 14, 16, 25, 17])"
      ]
     },
     "execution_count": 39,
     "metadata": {},
     "output_type": "execute_result"
    }
   ],
   "source": [
    "nodes_dist.sample(16)"
   ]
  },
  {
   "cell_type": "code",
   "execution_count": 46,
   "id": "9f0241b3-e0ce-4f8a-8c82-eef6da8132a8",
   "metadata": {},
   "outputs": [
    {
     "data": {
      "text/plain": [
       "<All keys matched successfully>"
      ]
     },
     "execution_count": 46,
     "metadata": {},
     "output_type": "execute_result"
    }
   ],
   "source": [
    "flow.load_state_dict(flow_state_dict)"
   ]
  },
  {
   "cell_type": "markdown",
   "id": "77a468be-f4c0-46f3-bb27-4dcb303d1803",
   "metadata": {},
   "source": [
    "## Sampling a latent\n",
    "\n",
    "Recreating the `sample` function in `qm.sampling` "
   ]
  },
  {
   "cell_type": "code",
   "execution_count": 66,
   "id": "ff527c3d-c29e-4563-aed3-affc0894e4bb",
   "metadata": {},
   "outputs": [],
   "source": [
    "batch_size = 128\n",
    "max_n_nodes = 25\n",
    "node_mask = torch.zeros(batch_size, max_n_nodes).to(device)\n",
    "mol_sizes = nodes_dist.sample(batch_size).to(device)"
   ]
  },
  {
   "cell_type": "code",
   "execution_count": 67,
   "id": "32bd4fc9-f18f-47af-8648-74d315e50381",
   "metadata": {},
   "outputs": [
    {
     "data": {
      "text/plain": [
       "tensor([16, 17, 18, 17, 19, 20, 21, 23, 18, 17, 20, 17, 20, 19, 17, 21, 14, 18,\n",
       "        18, 21, 16, 17, 24, 15, 20, 19, 14, 21, 19, 23, 15, 19, 18, 23, 21, 17,\n",
       "        16, 18, 23, 24, 16, 10, 19, 24, 19, 19, 19, 11, 15, 21, 19, 23, 23, 17,\n",
       "        23, 14, 22, 13, 17, 19, 12, 15, 14, 17, 17, 14, 15, 17, 20, 18, 21, 17,\n",
       "        18, 19, 15, 19, 21, 13, 17, 18, 18, 21, 13, 17, 18, 17, 17, 20, 18, 19,\n",
       "        18, 23, 19, 16, 17, 19, 16, 18, 19, 23, 16, 18, 19, 23, 21, 16, 21, 18,\n",
       "        19, 23, 18, 17, 18, 15, 16, 19, 14, 23, 18, 19, 17, 19, 21, 16, 13, 14,\n",
       "        20, 18], device='cuda:0')"
      ]
     },
     "execution_count": 67,
     "metadata": {},
     "output_type": "execute_result"
    }
   ],
   "source": [
    "mol_sizes"
   ]
  },
  {
   "cell_type": "code",
   "execution_count": 68,
   "id": "a3db774d-9a5c-4fce-9fec-72eb969917e5",
   "metadata": {},
   "outputs": [],
   "source": [
    "for i in range(batch_size):\n",
    "    node_mask[i, 0:mol_sizes[i]] = 1 # 0 padding of non-existent atoms"
   ]
  },
  {
   "cell_type": "code",
   "execution_count": 69,
   "id": "7a149e3b-a08e-4d86-99bf-69d685b0053e",
   "metadata": {},
   "outputs": [],
   "source": [
    "# Compute edge_mask\n",
    "edge_mask = node_mask.unsqueeze(1) * node_mask.unsqueeze(2).to(device)\n",
    "diag_mask = ~torch.eye(edge_mask.size(1), dtype=torch.bool).unsqueeze(0).to(device)\n",
    "edge_mask *= diag_mask\n",
    "edge_mask = edge_mask.view(batch_size * max_n_nodes * max_n_nodes, 1)\n",
    "node_mask = node_mask.unsqueeze(2)"
   ]
  },
  {
   "cell_type": "code",
   "execution_count": 70,
   "id": "11e2bf51-4487-4d0f-8a00-d20be0e86029",
   "metadata": {},
   "outputs": [],
   "source": [
    "context = None\n",
    "fix_noise = False"
   ]
  },
  {
   "cell_type": "code",
   "execution_count": 71,
   "id": "14492039-600e-421b-9eaf-1cd0fadf11fe",
   "metadata": {},
   "outputs": [],
   "source": [
    "dataset_info = {\n",
    "    'name': 'qm9',\n",
    "    'atom_encoder': {'H': 0, 'C': 1, 'N': 2, 'O': 3, 'F': 4},\n",
    "    'atom_decoder': ['H', 'C', 'N', 'O', 'F'],\n",
    "    'n_nodes': {22: 3393, 17: 13025, 23: 4848, 21: 9970, 19: 13832, 20: 9482, 16: 10644, 13: 3060,\n",
    "                15: 7796, 25: 1506, 18: 13364, 12: 1689, 11: 807, 24: 539, 14: 5136, 26: 48, 7: 16, 10: 362,\n",
    "                8: 49, 9: 124, 27: 266, 4: 4, 29: 25, 6: 9, 5: 5, 3: 1},\n",
    "    'max_n_nodes': 29,\n",
    "    'atom_types': {1: 635559, 2: 101476, 0: 923537, 3: 140202, 4: 2323},\n",
    "    'distances': [903054, 307308, 111994, 57474, 40384, 29170, 47152, 414344, 2202212, 573726,\n",
    "                  1490786, 2970978, 756818, 969276, 489242, 1265402, 4587994, 3187130, 2454868, 2647422,\n",
    "                  2098884,\n",
    "                  2001974, 1625206, 1754172, 1620830, 1710042, 2133746, 1852492, 1415318, 1421064, 1223156,\n",
    "                  1322256,\n",
    "                  1380656, 1239244, 1084358, 981076, 896904, 762008, 659298, 604676, 523580, 437464, 413974,\n",
    "                  352372,\n",
    "                  291886, 271948, 231328, 188484, 160026, 136322, 117850, 103546, 87192, 76562, 61840,\n",
    "                  49666, 43100,\n",
    "                  33876, 26686, 22402, 18358, 15518, 13600, 12128, 9480, 7458, 5088, 4726, 3696, 3362, 3396,\n",
    "                  2484,\n",
    "                  1988, 1490, 984, 734, 600, 456, 482, 378, 362, 168, 124, 94, 88, 52, 44, 40, 18, 16, 8, 6,\n",
    "                  2,\n",
    "                  0, 0, 0, 0,\n",
    "                  0,\n",
    "                  0, 0],\n",
    "    'colors_dic': ['#FFFFFF99', 'C7', 'C0', 'C3', 'C1'],\n",
    "    'radius_dic': [0.46, 0.77, 0.77, 0.77, 0.77],\n",
    "    'with_h': True}"
   ]
  },
  {
   "cell_type": "code",
   "execution_count": null,
   "id": "20681505-49f2-40e1-9355-a66dd1be661c",
   "metadata": {},
   "outputs": [],
   "source": []
  },
  {
   "cell_type": "code",
   "execution_count": 72,
   "id": "e80524c3-ba4e-4622-af19-43cb069f6319",
   "metadata": {},
   "outputs": [
    {
     "name": "stdout",
     "output_type": "stream",
     "text": [
      "Found stable mol.\n",
      "Found stable mol.\n",
      "Found stable mol.\n",
      "Found stable mol.\n",
      "Found stable mol.\n",
      "Found stable mol.\n",
      "Found stable mol.\n",
      "Found stable mol.\n",
      "Found stable mol.\n",
      "Found stable mol.\n",
      "Found stable mol.\n",
      "Found stable mol.\n",
      "Found stable mol.\n",
      "Found stable mol.\n",
      "Found stable mol.\n",
      "Found stable mol.\n",
      "Found stable mol.\n",
      "Found stable mol.\n",
      "Found stable mol.\n",
      "Found stable mol.\n",
      "Found stable mol.\n",
      "Found stable mol.\n",
      "Found stable mol.\n",
      "Found stable mol.\n",
      "Found stable mol.\n",
      "Found stable mol.\n",
      "Found stable mol.\n",
      "Found stable mol.\n",
      "Found stable mol.\n",
      "Found stable mol.\n",
      "Found stable mol.\n",
      "Found stable mol.\n",
      "Found stable mol.\n",
      "Found stable mol.\n",
      "Found stable mol.\n",
      "Found stable mol.\n",
      "Found stable mol.\n",
      "Found stable mol.\n",
      "Found stable mol.\n",
      "Found stable mol.\n",
      "Found stable mol.\n",
      "Found stable mol.\n",
      "Found stable mol.\n",
      "Found stable mol.\n",
      "Found stable mol.\n",
      "Found stable mol.\n",
      "Found stable mol.\n",
      "Found stable mol.\n",
      "Found stable mol.\n",
      "Found stable mol.\n",
      "Found stable mol.\n",
      "Found stable mol.\n",
      "Found stable mol.\n",
      "Found stable mol.\n",
      "Found stable mol.\n",
      "Found stable mol.\n",
      "Found stable mol.\n",
      "Found stable mol.\n",
      "Found stable mol.\n",
      "Found stable mol.\n",
      "Found stable mol.\n",
      "Found stable mol.\n",
      "Found stable mol.\n",
      "Found stable mol.\n",
      "Found stable mol.\n",
      "Found stable mol.\n",
      "Found stable mol.\n",
      "Found stable mol.\n",
      "Found stable mol.\n",
      "Found stable mol.\n",
      "Found stable mol.\n",
      "Found stable mol.\n",
      "Found stable mol.\n",
      "Found stable mol.\n",
      "Found stable mol.\n",
      "Found stable mol.\n",
      "Found stable mol.\n",
      "Found stable mol.\n",
      "Found stable mol.\n",
      "Found stable mol.\n",
      "Found stable mol.\n",
      "Found stable mol.\n",
      "Found stable mol.\n",
      "Found stable mol.\n",
      "Found stable mol.\n",
      "Found stable mol.\n",
      "Found stable mol.\n",
      "Found stable mol.\n",
      "Found stable mol.\n",
      "Found stable mol.\n",
      "Found stable mol.\n",
      "Found stable mol.\n",
      "Found stable mol.\n",
      "Found stable mol.\n",
      "Found stable mol.\n",
      "Found stable mol.\n",
      "Found stable mol.\n",
      "Found stable mol.\n",
      "Found stable mol.\n",
      "Found stable mol.\n",
      "Found stable mol.\n",
      "Found stable mol.\n",
      "Found stable mol.\n",
      "Found stable mol.\n"
     ]
    }
   ],
   "source": [
    "min_valid_samples = 100\n",
    "\n",
    "num_valid = 0\n",
    "\n",
    "flow.eval()\n",
    "\n",
    "root_path = \"/home/szaman5/e3_diffusion_for_molecules\"\n",
    "while num_valid < min_valid_samples:\n",
    "    # x, h = flow.sample(batch_size, max_n_nodes, node_mask, edge_mask, context, fix_noise=fix_noise)\n",
    "    with torch.no_grad():\n",
    "        z = flow.sample_combined_position_feature_noise(batch_size,\n",
    "                                                        max_n_nodes,\n",
    "                                                        node_mask)\n",
    "        z = z.to(device)\n",
    "        for s in reversed(range(0, flow.T)):\n",
    "            s_array = torch.full((batch_size, 1), fill_value=s, device=device)\n",
    "            t_array = s_array + 1\n",
    "            s_array = s_array / flow.T\n",
    "            t_array = t_array / flow.T\n",
    "            # p(z_{t-1} | z_t)\n",
    "            z = flow.sample_p_zs_given_zt(s_array,\n",
    "                                          t_array,\n",
    "                                          z,\n",
    "                                          node_mask,\n",
    "                                          edge_mask,\n",
    "                                          context,\n",
    "                                          fix_noise=fix_noise)\n",
    "        # p(x, h | z_0)\n",
    "        x, h = flow.sample_p_xh_given_z0(z,\n",
    "                                         node_mask,\n",
    "                                         edge_mask,\n",
    "                                         context,\n",
    "                                         fix_noise=fix_noise)\n",
    "        max_cog = torch.sum(x, dim=1, keepdim=True).abs().max().item()\n",
    "        if max_cog > 5e-2:\n",
    "            print(f'Warning cog drift with error {max_cog:.3f}. Projecting '\n",
    "                  f'the positions down.')\n",
    "            x = diffusion_utils.remove_mean_with_mask(x, node_mask)\n",
    "\n",
    "        one_hot = h['categorical']\n",
    "        charges = h['integer']\n",
    "        \n",
    "        for i in range(batch_size):\n",
    "            num_atoms = int(node_mask[i:i+1].sum().item())\n",
    "            atom_type = one_hot[i:i+1, :num_atoms].argmax(2).squeeze(0).cpu().detach().numpy()\n",
    "            x_squeeze = x[i:i+1, :num_atoms].squeeze(0).cpu().detach().numpy()\n",
    "            mol_stable = check_stability(x_squeeze, atom_type, dataset_info)[0]\n",
    "            \n",
    "            if (mol_stable):\n",
    "                print('Found stable mol.')\n",
    "                vis.save_xyz_file(\n",
    "                    join(root_path, 'eval/molecules/'),\n",
    "                    one_hot[i:i+1], charges[i:i+1], x[i:i+1],\n",
    "                    id_from=num_valid, name='molecule_stable',\n",
    "                    dataset_info=dataset_info,\n",
    "                    node_mask=node_mask[i:i+1])\n",
    "                num_valid += 1"
   ]
  }
 ],
 "metadata": {
  "kernelspec": {
   "display_name": "Python 3 (ipykernel)",
   "language": "python",
   "name": "python3"
  },
  "language_info": {
   "codemirror_mode": {
    "name": "ipython",
    "version": 3
   },
   "file_extension": ".py",
   "mimetype": "text/x-python",
   "name": "python",
   "nbconvert_exporter": "python",
   "pygments_lexer": "ipython3",
   "version": "3.9.15"
  }
 },
 "nbformat": 4,
 "nbformat_minor": 5
}
